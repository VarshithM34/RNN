{
  "nbformat": 4,
  "nbformat_minor": 0,
  "metadata": {
    "colab": {
      "provenance": [],
      "authorship_tag": "ABX9TyOAFMvaLanj1vs4hNbpUwGa",
      "include_colab_link": true
    },
    "kernelspec": {
      "name": "python3",
      "display_name": "Python 3"
    },
    "language_info": {
      "name": "python"
    }
  },
  "cells": [
    {
      "cell_type": "markdown",
      "metadata": {
        "id": "view-in-github",
        "colab_type": "text"
      },
      "source": [
        "<a href=\"https://colab.research.google.com/github/VarshithM34/RNN/blob/main/Untitled33.ipynb\" target=\"_parent\"><img src=\"https://colab.research.google.com/assets/colab-badge.svg\" alt=\"Open In Colab\"/></a>"
      ]
    },
    {
      "cell_type": "code",
      "execution_count": null,
      "metadata": {
        "id": "uG5XWrU9lC_K"
      },
      "outputs": [],
      "source": [
        "import tensorflow as tf\n",
        "from tensorflow.keras.layers import LSTM\n",
        "from tensorflow.keras import datasets,layers,models\n",
        "(x_train,y_train),(x_test,y_test) = datasets.mnist.load_data()\n",
        "x_train =x_train/255.0\n",
        "x_test = x_test/255.0\n",
        "from keras.layers import Dense\n",
        "from keras.models import Sequential\n",
        "rn = Sequential()\n",
        "rn.add(LSTM(64,activation = \"relu\",input_shape = (x_train.shape[1:]),return_sequences = True))\n",
        "rn.add(LSTM(32,activation = \"relu\"))\n",
        "rn.add(Dense(16,activation = \"relu\"))\n",
        "rn.add(Dense(10,activation = \"softmax\"))\n",
        "rn.compile(optimizer = \"adam\",loss = tf.keras.losses.SparseCategoricalCrossentropy,metrics = ['accuracy'])\n",
        "rn.fit(x_train,y_train,epochs =2)\n",
        "\n",
        "predictions = rn.predict(x_test)\n",
        "loss = rn.evaluate(x_test, y_test)\n",
        "print(f\"Test Loss: {loss}\")"
      ]
    }
  ]
}